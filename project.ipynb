{
  "cells": [
    {
      "cell_type": "markdown",
      "metadata": {
        "id": "view-in-github",
        "colab_type": "text"
      },
      "source": [
        "<a href=\"https://colab.research.google.com/github/MilindMali0339/Epileptic-Seizure-Detection-using-ML/blob/main/project.ipynb\" target=\"_parent\"><img src=\"https://colab.research.google.com/assets/colab-badge.svg\" alt=\"Open In Colab\"/></a>"
      ]
    },
    {
      "cell_type": "code",
      "execution_count": null,
      "metadata": {
        "id": "RRheBmmYJxrP"
      },
      "outputs": [],
      "source": [
        "import pandas as pd\n",
        "\n",
        "# Load EEG data from CSV file\n",
        "eeg_data = pd.read_csv('/content/s00.csv')\n"
      ]
    },
    {
      "cell_type": "code",
      "execution_count": null,
      "metadata": {
        "id": "91eyCudZN_vl"
      },
      "outputs": [],
      "source": [
        "# Check for missing values\n",
        "missing_values = eeg_data.isnull().sum()\n",
        "\n",
        "# Remove rows with missing values\n",
        "eeg_data.dropna(inplace=True)\n"
      ]
    },
    {
      "cell_type": "code",
      "execution_count": null,
      "metadata": {
        "colab": {
          "base_uri": "https://localhost:8080/"
        },
        "id": "bM9n8oJnOJiF",
        "outputId": "29d43d65-250b-4103-bafb-99a76b84022d"
      },
      "outputs": [
        {
          "output_type": "stream",
          "name": "stdout",
          "text": [
            "Filtering data for Channel_1...\n",
            "Filtering data for Channel_2...\n",
            "Filtering data for Channel_3...\n",
            "Filtering data for Channel_4...\n",
            "Filtering data for Channel_5...\n",
            "Filtering data for Channel_6...\n",
            "Filtering data for Channel_7...\n",
            "Filtering data for Channel_8...\n",
            "Filtering data for Channel_9...\n",
            "Filtering data for Channel_10...\n",
            "Filtering data for Channel_11...\n",
            "Filtering data for Channel_12...\n",
            "Filtering data for Channel_13...\n",
            "Filtering data for Channel_14...\n",
            "Filtering data for Channel_15...\n",
            "Filtering data for Channel_16...\n",
            "Filtering data for Channel_17...\n",
            "Filtering data for Channel_18...\n",
            "Filtering data for Channel_19...\n",
            "Filtered signal columns created successfully.\n",
            "Updated DataFrame:\n",
            "   Channel_1  Channel_2  Channel_3  Channel_4  Channel_5  Channel_6  \\\n",
            "0     1.2080    -3.3088    -4.4178   -0.52935    -8.5782    0.40699   \n",
            "1    -2.5460    -3.7083    -6.4109   -1.00330   -10.2200    1.87700   \n",
            "2    -6.1871    -3.6804    -8.0297   -1.10310   -11.7210    4.01570   \n",
            "3    -9.1110    -3.0027    -8.8444   -0.65140   -12.7840    6.71770   \n",
            "4   -10.8820    -1.5795    -8.5962    0.41845   -13.1950    9.74310   \n",
            "\n",
            "   Channel_7  Channel_8  Channel_9  Channel_10  ...  filtered_signal_10  \\\n",
            "0    -3.0996    -3.6005  -0.048363    -0.17258  ...        1.431274e+64   \n",
            "1    -3.6952    -3.8673  -1.132300    -1.32850  ...        1.427658e+64   \n",
            "2    -4.2652    -4.0530  -1.984100    -2.36070  ...        1.424053e+64   \n",
            "3    -4.6708    -4.0965  -2.337200    -3.02550  ...        1.420457e+64   \n",
            "4    -4.7778    -3.9759  -2.021600    -3.15980  ...        1.416870e+64   \n",
            "\n",
            "   filtered_signal_11  filtered_signal_12  filtered_signal_13  \\\n",
            "0       -2.728113e+64        1.623325e+64       -3.445410e+63   \n",
            "1       -2.721802e+64        1.619751e+64       -3.437156e+63   \n",
            "2       -2.715510e+64        1.616187e+64       -3.428924e+63   \n",
            "3       -2.709235e+64        1.612630e+64       -3.420715e+63   \n",
            "4       -2.702977e+64        1.609083e+64       -3.412529e+63   \n",
            "\n",
            "   filtered_signal_14  filtered_signal_15  filtered_signal_16  \\\n",
            "0        2.889789e+63       -1.777972e+64       -5.385652e+63   \n",
            "1        2.882459e+63       -1.773456e+64       -5.372476e+63   \n",
            "2        2.875149e+63       -1.768952e+64       -5.359333e+63   \n",
            "3        2.867858e+63       -1.764458e+64       -5.346224e+63   \n",
            "4        2.860586e+63       -1.759975e+64       -5.333147e+63   \n",
            "\n",
            "   filtered_signal_17  filtered_signal_18  filtered_signal_19  \n",
            "0       -5.718154e+62        2.275683e+63       -3.420753e+64  \n",
            "1       -5.704296e+62        2.269950e+63       -3.412389e+64  \n",
            "2       -5.690474e+62        2.264230e+63       -3.404045e+64  \n",
            "3       -5.676687e+62        2.258525e+63       -3.395720e+64  \n",
            "4       -5.662936e+62        2.252834e+63       -3.387413e+64  \n",
            "\n",
            "[5 rows x 38 columns]\n"
          ]
        }
      ],
      "source": [
        "import pandas as pd\n",
        "from scipy.signal import butter, filtfilt\n",
        "\n",
        "# Load EEG data from CSV file\n",
        "eeg_data = pd.read_csv('/content/s00.csv')\n",
        "\n",
        "# Define bandpass filter function\n",
        "def bandpass_filter(data, lowcut, highcut, fs, order=5):\n",
        "    nyquist = 0.5 * fs\n",
        "    low = lowcut / nyquist\n",
        "    high = highcut / nyquist\n",
        "    b, a = butter(order, [low, high], btype='band')\n",
        "    return filtfilt(b, a, data)\n",
        "\n",
        "# Assign default column names to the DataFrame\n",
        "num_channels = 19\n",
        "column_names = [f'Channel_{i}' for i in range(1, num_channels + 1)]\n",
        "eeg_data.columns = column_names\n",
        "\n",
        "# Apply bandpass filter to each channel and create filtered_signal columns\n",
        "filtered_signals = {}\n",
        "for i, col in enumerate(column_names, 1):\n",
        "    print(f\"Filtering data for {col}...\")\n",
        "    filtered_signals[f'filtered_signal_{i}'] = bandpass_filter(eeg_data[col], lowcut=0.5, highcut=50, fs=1000)\n",
        "\n",
        "# Create a new DataFrame for filtered signals\n",
        "filtered_data = pd.DataFrame(filtered_signals)\n",
        "\n",
        "# Concatenate the original DataFrame with the DataFrame containing filtered signals\n",
        "eeg_data = pd.concat([eeg_data, filtered_data], axis=1)\n",
        "\n",
        "# Check if filtered signal columns are created\n",
        "print(\"Filtered signal columns created successfully.\")\n",
        "print(\"Updated DataFrame:\")\n",
        "print(eeg_data.head())\n"
      ]
    },
    {
      "cell_type": "code",
      "execution_count": null,
      "metadata": {
        "id": "2RvIYss4QmQS",
        "colab": {
          "base_uri": "https://localhost:8080/"
        },
        "outputId": "2de00edb-b17c-40d5-e169-91fccb550da5"
      },
      "outputs": [
        {
          "output_type": "stream",
          "name": "stdout",
          "text": [
            "Scaled signal columns created successfully.\n",
            "Updated DataFrame:\n",
            "   Channel_1  Channel_2  Channel_3  Channel_4  Channel_5  Channel_6  \\\n",
            "0     1.2080    -3.3088    -4.4178   -0.52935    -8.5782    0.40699   \n",
            "1    -2.5460    -3.7083    -6.4109   -1.00330   -10.2200    1.87700   \n",
            "2    -6.1871    -3.6804    -8.0297   -1.10310   -11.7210    4.01570   \n",
            "3    -9.1110    -3.0027    -8.8444   -0.65140   -12.7840    6.71770   \n",
            "4   -10.8820    -1.5795    -8.5962    0.41845   -13.1950    9.74310   \n",
            "\n",
            "   Channel_7  Channel_8  Channel_9  Channel_10  ...  scaled_signal_10  \\\n",
            "0    -3.0996    -3.6005  -0.048363    -0.17258  ...          1.000000   \n",
            "1    -3.6952    -3.8673  -1.132300    -1.32850  ...          0.997474   \n",
            "2    -4.2652    -4.0530  -1.984100    -2.36070  ...          0.994955   \n",
            "3    -4.6708    -4.0965  -2.337200    -3.02550  ...          0.992442   \n",
            "4    -4.7778    -3.9759  -2.021600    -3.15980  ...          0.989937   \n",
            "\n",
            "   scaled_signal_11  scaled_signal_12  scaled_signal_13  scaled_signal_14  \\\n",
            "0          0.000000          1.000000          0.000000          1.000000   \n",
            "1          0.002313          0.997799          0.002396          0.997464   \n",
            "2          0.004620          0.995603          0.004785          0.994934   \n",
            "3          0.006920          0.993412          0.007168          0.992411   \n",
            "4          0.009213          0.991227          0.009543          0.989894   \n",
            "\n",
            "   scaled_signal_15  scaled_signal_16  scaled_signal_17  scaled_signal_18  \\\n",
            "0          0.000000          0.000000          0.000000          1.000000   \n",
            "1          0.002540          0.002447          0.002423          0.997481   \n",
            "2          0.005073          0.004887          0.004841          0.994967   \n",
            "3          0.007601          0.007321          0.007252          0.992460   \n",
            "4          0.010122          0.009749          0.009657          0.989959   \n",
            "\n",
            "   scaled_signal_19  \n",
            "0          0.000000  \n",
            "1          0.002445  \n",
            "2          0.004884  \n",
            "3          0.007318  \n",
            "4          0.009746  \n",
            "\n",
            "[5 rows x 57 columns]\n"
          ]
        }
      ],
      "source": [
        "from sklearn.preprocessing import MinMaxScaler\n",
        "\n",
        "# Initialize MinMaxScaler\n",
        "scaler = MinMaxScaler()\n",
        "\n",
        "# Scale each filtered signal column separately\n",
        "for i in range(1, num_channels + 1):\n",
        "    column_name = f'filtered_signal_{i}'\n",
        "    eeg_data[f'scaled_signal_{i}'] = scaler.fit_transform(eeg_data[[column_name]])\n",
        "\n",
        "# Check if scaled signal columns are created\n",
        "print(\"Scaled signal columns created successfully.\")\n",
        "print(\"Updated DataFrame:\")\n",
        "print(eeg_data.head())\n",
        "\n"
      ]
    },
    {
      "cell_type": "code",
      "execution_count": null,
      "metadata": {
        "id": "JOQtWlqOQuhf"
      },
      "outputs": [],
      "source": [
        "from scipy.signal import welch\n",
        "import numpy as np\n",
        "\n",
        "# Initialize a dictionary to store results\n",
        "psd_results = {}\n",
        "\n",
        "# Loop through each filtered signal column\n",
        "for i in range(1, num_channels + 1):\n",
        "    column_name = f'filtered_signal_{i}'\n",
        "    # Calculate power spectral density\n",
        "    f, Pxx = welch(eeg_data[column_name], fs=1000)\n",
        "    # Store the results in the dictionary\n",
        "    psd_results[f'psd_{i}'] = (f, Pxx)\n",
        "\n",
        "# Now you can access the power spectral density results for each channel separately\n",
        "# For example, to calculate the average power for the first channel:\n",
        "avg_power_channel_1 = np.mean(psd_results['psd_1'][1])\n"
      ]
    },
    {
      "cell_type": "code",
      "execution_count": null,
      "metadata": {
        "id": "kr9TUJKbROME"
      },
      "outputs": [],
      "source": [
        "# Segment EEG data into epochs\n",
        "fs = 1000\n",
        "epoch_duration = 2  # seconds\n",
        "epochs = []\n",
        "for i in range(0, len(eeg_data), epoch_duration * fs):\n",
        "    epoch = eeg_data.iloc[i:i + epoch_duration * fs]\n",
        "    epochs.append(epoch)\n"
      ]
    },
    {
      "cell_type": "code",
      "execution_count": null,
      "metadata": {
        "colab": {
          "base_uri": "https://localhost:8080/",
          "height": 584
        },
        "id": "Voc4yg4wRT__",
        "outputId": "312b8e38-7043-4746-db4a-f9ed1c79086a"
      },
      "outputs": [
        {
          "output_type": "display_data",
          "data": {
            "text/plain": [
              "<Figure size 1200x600 with 1 Axes>"
            ],
            "image/png": "[encoded data removed]"
          },
          "metadata": {}
        }
      ],
      "source": [
        "import matplotlib.pyplot as plt\n",
        "\n",
        "# Plot original and filtered signals for one channel\n",
        "plt.figure(figsize=(12, 6))\n",
        "plt.plot(eeg_data.index, eeg_data['Channel_1'], label='Original Signal', alpha=0.7)\n",
        "plt.plot(eeg_data.index, eeg_data['filtered_signal_1'], label='Filtered Signal', alpha=0.7)\n",
        "plt.xlabel('Time')\n",
        "plt.ylabel('Amplitude')\n",
        "plt.title('Original vs. Filtered Signal')\n",
        "plt.legend()\n",
        "\n",
        "# Adjust y-axis limits to ensure proper visualization\n",
        "y_min = min(eeg_data['Channel_1'].min(), eeg_data['filtered_signal_1'].min())\n",
        "y_max = max(eeg_data['Channel_1'].max(), eeg_data['filtered_signal_1'].max())\n",
        "y_range = y_max - y_min\n",
        "# Set y-axis limits with a buffer to ensure proper visualization\n",
        "plt.ylim(y_min - 0.1 * y_range, y_max + 0.1 * y_range)\n",
        "\n",
        "plt.show()\n"
      ]
    },
    {
      "cell_type": "code",
      "execution_count": null,
      "metadata": {
        "colab": {
          "base_uri": "https://localhost:8080/"
        },
        "id": "zLXnRFiOXTb4",
        "outputId": "b9d0496a-039e-4e19-e715-8b9b43f37ec2"
      },
      "outputs": [
        {
          "output_type": "stream",
          "name": "stdout",
          "text": [
            "Index(['Channel_1', 'Channel_2', 'Channel_3', 'Channel_4', 'Channel_5',\n",
            "       'Channel_6', 'Channel_7', 'Channel_8', 'Channel_9', 'Channel_10',\n",
            "       'Channel_11', 'Channel_12', 'Channel_13', 'Channel_14', 'Channel_15',\n",
            "       'Channel_16', 'Channel_17', 'Channel_18', 'Channel_19',\n",
            "       'filtered_signal_1', 'filtered_signal_2', 'filtered_signal_3',\n",
            "       'filtered_signal_4', 'filtered_signal_5', 'filtered_signal_6',\n",
            "       'filtered_signal_7', 'filtered_signal_8', 'filtered_signal_9',\n",
            "       'filtered_signal_10', 'filtered_signal_11', 'filtered_signal_12',\n",
            "       'filtered_signal_13', 'filtered_signal_14', 'filtered_signal_15',\n",
            "       'filtered_signal_16', 'filtered_signal_17', 'filtered_signal_18',\n",
            "       'filtered_signal_19', 'scaled_signal_1', 'scaled_signal_2',\n",
            "       'scaled_signal_3', 'scaled_signal_4', 'scaled_signal_5',\n",
            "       'scaled_signal_6', 'scaled_signal_7', 'scaled_signal_8',\n",
            "       'scaled_signal_9', 'scaled_signal_10', 'scaled_signal_11',\n",
            "       'scaled_signal_12', 'scaled_signal_13', 'scaled_signal_14',\n",
            "       'scaled_signal_15', 'scaled_signal_16', 'scaled_signal_17',\n",
            "       'scaled_signal_18', 'scaled_signal_19'],\n",
            "      dtype='object')\n"
          ]
        }
      ],
      "source": [
        "print(eeg_data.columns)"
      ]
    }
  ],
  "metadata": {
    "colab": {
      "provenance": [],
      "include_colab_link": true
    },
    "kernelspec": {
      "display_name": "Python 3",
      "name": "python3"
    },
    "language_info": {
      "name": "python"
    }
  },
  "nbformat": 4,
  "nbformat_minor": 0
}