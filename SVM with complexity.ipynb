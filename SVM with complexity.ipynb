import numpy as np
import pandas as pd
from sklearn.model_selection import train_test_split
from sklearn.preprocessing import StandardScaler
from sklearn.svm import SVC
from sklearn.metrics import accuracy_score, classification_report
from sklearn.feature_selection import SelectKBest, f_classif
import time

# Load EEG signal dataset
def load_data(filename):
    eeg_data = pd.read_csv(filename)  # Load data from CSV file
    X = eeg_data.iloc[:, :-1].values   # Features (all columns except the last one)
    y = eeg_data.iloc[:, -1].values    # Target variable (last column)
    return X, y

# Signal Preprocessing and Feature Extraction
def preprocess_and_extract_features(X, y):
    # Perform any necessary preprocessing such as normalization
    scaler = StandardScaler()
    X_scaled = scaler.fit_transform(X)

    # Perform feature extraction (replace this with actual feature extraction methods)
    # Example: Here we use SelectKBest with ANOVA F-value to select top k features
    selector = SelectKBest(f_classif, k=10)
    X_selected = selector.fit_transform(X_scaled, y)

    return X_selected

# Classification using Support Vector Machine (SVM)
def train_svm(X_train, y_train):
    svm_model = SVC(kernel='linear', C=1.0)
    svm_model.fit(X_train, y_train)
    return svm_model

# Evaluation
def evaluate_model(model, X_test, y_test):
    y_pred = model.predict(X_test)
    accuracy = accuracy_score(y_test, y_pred)
    report = classification_report(y_test, y_pred)
    print("Accuracy:", accuracy)
    print("Classification Report:\n", report)

# Discretize continuous target variable into classes
def discretize_target(y):
    # Define your criteria for discretization here
    # For example, you can use binning to divide continuous values into distinct classes
    # You may need domain knowledge or consultation with a domain expert to determine the appropriate bins
    # Here's a simple example assuming you want to divide the continuous values into two classes:
    threshold = y.mean()  # Define threshold (e.g., mean value) to divide into two classes
    y_discrete = np.where(y > threshold, 1, 0)  # Discretize into two classes (0 or 1)
    return y_discrete

# Main function
def main():
    # Load data
    start_time = time.time()

    X, y_continuous = load_data('s00.csv')  # Replace 's00.csv' with your filename

    # Discretize target variable
    y = discretize_target(y_continuous)

    # Preprocess and extract features
    X_processed = preprocess_and_extract_features(X, y)

    # Split data into train and test sets
    X_train, X_test, y_train, y_test = train_test_split(X_processed, y, test_size=0.2, random_state=42)

    # Train SVM model
    svm_model = train_svm(X_train, y_train)

    # Evaluate model
    evaluate_model(svm_model, X_test, y_test)

    end_time = time.time()
    print(f"Total execution time(Computation complexity): {end_time - start_time} seconds")
if __name__ == "__main__":
    main()
