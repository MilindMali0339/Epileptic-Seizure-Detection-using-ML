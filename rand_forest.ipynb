{
  "nbformat": 4,
  "nbformat_minor": 0,
  "metadata": {
    "colab": {
      "provenance": [],
      "include_colab_link": true
    },
    "kernelspec": {
      "name": "python3",
      "display_name": "Python 3"
    },
    "language_info": {
      "name": "python"
    }
  },
  "cells": [
    {
      "cell_type": "markdown",
      "metadata": {
        "id": "view-in-github",
        "colab_type": "text"
      },
      "source": [
        "<a href=\"https://colab.research.google.com/github/MilindMali0339/Epileptic-Seizure-Detection-using-ML/blob/main/rand_forest.ipynb\" target=\"_parent\"><img src=\"https://colab.research.google.com/assets/colab-badge.svg\" alt=\"Open In Colab\"/></a>"
      ]
    },
    {
      "cell_type": "code",
      "execution_count": null,
      "metadata": {
        "colab": {
          "base_uri": "https://localhost:8080/"
        },
        "id": "a1dHUuQSRzvr",
        "outputId": "98a3a465-5561-4215-8f4c-995f65ea64ae"
      },
      "outputs": [
        {
          "output_type": "stream",
          "name": "stdout",
          "text": [
            "Accuracy: 0.9296774193548387\n",
            "Classification Report:\n",
            "               precision    recall  f1-score   support\n",
            "\n",
            "           0       0.92      0.93      0.93      3066\n",
            "           1       0.93      0.93      0.93      3134\n",
            "\n",
            "    accuracy                           0.93      6200\n",
            "   macro avg       0.93      0.93      0.93      6200\n",
            "weighted avg       0.93      0.93      0.93      6200\n",
            "\n"
          ]
        }
      ],
      "source": [
        "import numpy as np\n",
        "import pandas as pd\n",
        "from sklearn.model_selection import train_test_split\n",
        "from sklearn.preprocessing import StandardScaler\n",
        "from sklearn.ensemble import RandomForestClassifier\n",
        "from sklearn.metrics import accuracy_score, classification_report\n",
        "from sklearn.feature_selection import SelectKBest, f_classif\n",
        "\n",
        "# Load EEG signal dataset\n",
        "filename = '/content/s00.csv';\n",
        "def load_data(filename):\n",
        "    eeg_data = pd.read_csv(filename)  # Load data from CSV file\n",
        "    X = eeg_data.iloc[:, :-1].values   # Features (all columns except the last one)\n",
        "    y = eeg_data.iloc[:, -1].values    # Target variable (last column)\n",
        "    return X, y\n",
        "\n",
        "# Signal Preprocessing and Feature Extraction\n",
        "def preprocess_and_extract_features(X, y):\n",
        "    # Perform any necessary preprocessing such as normalization\n",
        "    scaler = StandardScaler()\n",
        "    X_scaled = scaler.fit_transform(X)\n",
        "\n",
        "    # Perform feature extraction (replace this with actual feature extraction methods)\n",
        "    # Example: Here we use SelectKBest with ANOVA F-value to select top k features\n",
        "    selector = SelectKBest(f_classif, k=10)\n",
        "    X_selected = selector.fit_transform(X_scaled, y)\n",
        "\n",
        "    return X_selected\n",
        "\n",
        "# Classification using Random Forest\n",
        "def train_random_forest(X_train, y_train):\n",
        "    rf_model = RandomForestClassifier(n_estimators=100, random_state=42)\n",
        "    rf_model.fit(X_train, y_train)\n",
        "    return rf_model\n",
        "\n",
        "# Evaluation\n",
        "def evaluate_model(model, X_test, y_test):\n",
        "    y_pred = model.predict(X_test)\n",
        "    accuracy = accuracy_score(y_test, y_pred)\n",
        "    report = classification_report(y_test, y_pred)\n",
        "    print(\"Accuracy:\", accuracy)\n",
        "    print(\"Classification Report:\\n\", report)\n",
        "\n",
        "# Discretize continuous target variable into classes\n",
        "def discretize_target(y):\n",
        "    # Define your criteria for discretization here\n",
        "    # For example, you can use binning to divide continuous values into distinct classes\n",
        "    # You may need domain knowledge or consultation with a domain expert to determine the appropriate bins\n",
        "    # Here's a simple example assuming you want to divide the continuous values into two classes:\n",
        "    threshold = y.mean()  # Define threshold (e.g., mean value) to divide into two classes\n",
        "    y_discrete = np.where(y > threshold, 1, 0)  # Discretize into two classes (0 or 1)\n",
        "    return y_discrete\n",
        "\n",
        "# Main function\n",
        "def main():\n",
        "    # Load data\n",
        "    X, y_continuous = load_data('s00.csv')  # Replace 's00.csv' with your filename\n",
        "\n",
        "    # Discretize target variable\n",
        "    y = discretize_target(y_continuous)\n",
        "\n",
        "    # Preprocess and extract features\n",
        "    X_processed = preprocess_and_extract_features(X, y)\n",
        "\n",
        "    # Split data into train and test sets\n",
        "    X_train, X_test, y_train, y_test = train_test_split(X_processed, y, test_size=0.2, random_state=42)\n",
        "\n",
        "    # Train Random Forest model\n",
        "    rf_model = train_random_forest(X_train, y_train)\n",
        "\n",
        "    # Evaluate model\n",
        "    evaluate_model(rf_model, X_test, y_test)\n",
        "\n",
        "if __name__ == \"__main__\":\n",
        "    main()\n"
      ]
    }
  ]
}